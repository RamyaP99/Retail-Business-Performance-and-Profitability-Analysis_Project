{
 "cells": [
  {
   "cell_type": "code",
   "execution_count": 1,
   "id": "18f76850",
   "metadata": {
    "scrolled": false
   },
   "outputs": [],
   "source": [
    "import pandas as pd\n",
    "df = pd.read_csv('AWS-SaaS-Sales.csv')"
   ]
  },
  {
   "cell_type": "code",
   "execution_count": 2,
   "id": "37e33fb5",
   "metadata": {},
   "outputs": [
    {
     "data": {
      "text/html": [
       "<div>\n",
       "<style scoped>\n",
       "    .dataframe tbody tr th:only-of-type {\n",
       "        vertical-align: middle;\n",
       "    }\n",
       "\n",
       "    .dataframe tbody tr th {\n",
       "        vertical-align: top;\n",
       "    }\n",
       "\n",
       "    .dataframe thead th {\n",
       "        text-align: right;\n",
       "    }\n",
       "</style>\n",
       "<table border=\"1\" class=\"dataframe\">\n",
       "  <thead>\n",
       "    <tr style=\"text-align: right;\">\n",
       "      <th></th>\n",
       "      <th>Row ID</th>\n",
       "      <th>Order ID</th>\n",
       "      <th>Order Date</th>\n",
       "      <th>Date Key</th>\n",
       "      <th>Contact Name</th>\n",
       "      <th>Country</th>\n",
       "      <th>City</th>\n",
       "      <th>Region</th>\n",
       "      <th>Subregion</th>\n",
       "      <th>Customer</th>\n",
       "      <th>Customer ID</th>\n",
       "      <th>Industry</th>\n",
       "      <th>Segment</th>\n",
       "      <th>Product</th>\n",
       "      <th>License</th>\n",
       "      <th>Sales</th>\n",
       "      <th>Quantity</th>\n",
       "      <th>Discount</th>\n",
       "      <th>Profit</th>\n",
       "    </tr>\n",
       "  </thead>\n",
       "  <tbody>\n",
       "    <tr>\n",
       "      <th>0</th>\n",
       "      <td>1</td>\n",
       "      <td>EMEA-2022-152156</td>\n",
       "      <td>11/9/2022</td>\n",
       "      <td>20221109</td>\n",
       "      <td>Nathan Bell</td>\n",
       "      <td>Ireland</td>\n",
       "      <td>Dublin</td>\n",
       "      <td>EMEA</td>\n",
       "      <td>UKIR</td>\n",
       "      <td>Chevron</td>\n",
       "      <td>1017</td>\n",
       "      <td>Energy</td>\n",
       "      <td>SMB</td>\n",
       "      <td>Marketing Suite</td>\n",
       "      <td>16GRM07R1K</td>\n",
       "      <td>261.9600</td>\n",
       "      <td>2</td>\n",
       "      <td>0.00</td>\n",
       "      <td>41.9136</td>\n",
       "    </tr>\n",
       "    <tr>\n",
       "      <th>1</th>\n",
       "      <td>2</td>\n",
       "      <td>EMEA-2022-152156</td>\n",
       "      <td>11/9/2022</td>\n",
       "      <td>20221109</td>\n",
       "      <td>Nathan Bell</td>\n",
       "      <td>Ireland</td>\n",
       "      <td>Dublin</td>\n",
       "      <td>EMEA</td>\n",
       "      <td>UKIR</td>\n",
       "      <td>Chevron</td>\n",
       "      <td>1017</td>\n",
       "      <td>Energy</td>\n",
       "      <td>SMB</td>\n",
       "      <td>FinanceHub</td>\n",
       "      <td>QLIW57KZUV</td>\n",
       "      <td>731.9400</td>\n",
       "      <td>3</td>\n",
       "      <td>0.00</td>\n",
       "      <td>219.5820</td>\n",
       "    </tr>\n",
       "    <tr>\n",
       "      <th>2</th>\n",
       "      <td>3</td>\n",
       "      <td>AMER-2022-138688</td>\n",
       "      <td>6/13/2022</td>\n",
       "      <td>20220613</td>\n",
       "      <td>Deirdre Bailey</td>\n",
       "      <td>United States</td>\n",
       "      <td>New York City</td>\n",
       "      <td>AMER</td>\n",
       "      <td>NAMER</td>\n",
       "      <td>Phillips 66</td>\n",
       "      <td>1056</td>\n",
       "      <td>Energy</td>\n",
       "      <td>Strategic</td>\n",
       "      <td>FinanceHub</td>\n",
       "      <td>JI6BVL70HQ</td>\n",
       "      <td>14.6200</td>\n",
       "      <td>2</td>\n",
       "      <td>0.00</td>\n",
       "      <td>6.8714</td>\n",
       "    </tr>\n",
       "    <tr>\n",
       "      <th>3</th>\n",
       "      <td>4</td>\n",
       "      <td>EMEA-2021-108966</td>\n",
       "      <td>10/11/2021</td>\n",
       "      <td>20211011</td>\n",
       "      <td>Zoe Hodges</td>\n",
       "      <td>Germany</td>\n",
       "      <td>Stuttgart</td>\n",
       "      <td>EMEA</td>\n",
       "      <td>EU-WEST</td>\n",
       "      <td>Royal Dutch Shell</td>\n",
       "      <td>1031</td>\n",
       "      <td>Energy</td>\n",
       "      <td>SMB</td>\n",
       "      <td>ContactMatcher</td>\n",
       "      <td>DE9GJKGD44</td>\n",
       "      <td>957.5775</td>\n",
       "      <td>5</td>\n",
       "      <td>0.45</td>\n",
       "      <td>-383.0310</td>\n",
       "    </tr>\n",
       "    <tr>\n",
       "      <th>4</th>\n",
       "      <td>5</td>\n",
       "      <td>EMEA-2021-108966</td>\n",
       "      <td>10/11/2021</td>\n",
       "      <td>20211011</td>\n",
       "      <td>Zoe Hodges</td>\n",
       "      <td>Germany</td>\n",
       "      <td>Stuttgart</td>\n",
       "      <td>EMEA</td>\n",
       "      <td>EU-WEST</td>\n",
       "      <td>Royal Dutch Shell</td>\n",
       "      <td>1031</td>\n",
       "      <td>Energy</td>\n",
       "      <td>SMB</td>\n",
       "      <td>Marketing Suite - Gold</td>\n",
       "      <td>OIF7NY23WD</td>\n",
       "      <td>22.3680</td>\n",
       "      <td>2</td>\n",
       "      <td>0.20</td>\n",
       "      <td>2.5164</td>\n",
       "    </tr>\n",
       "  </tbody>\n",
       "</table>\n",
       "</div>"
      ],
      "text/plain": [
       "   Row ID          Order ID  Order Date  Date Key    Contact Name  \\\n",
       "0       1  EMEA-2022-152156   11/9/2022  20221109     Nathan Bell   \n",
       "1       2  EMEA-2022-152156   11/9/2022  20221109     Nathan Bell   \n",
       "2       3  AMER-2022-138688   6/13/2022  20220613  Deirdre Bailey   \n",
       "3       4  EMEA-2021-108966  10/11/2021  20211011      Zoe Hodges   \n",
       "4       5  EMEA-2021-108966  10/11/2021  20211011      Zoe Hodges   \n",
       "\n",
       "         Country           City Region Subregion           Customer  \\\n",
       "0        Ireland         Dublin   EMEA      UKIR            Chevron   \n",
       "1        Ireland         Dublin   EMEA      UKIR            Chevron   \n",
       "2  United States  New York City   AMER     NAMER        Phillips 66   \n",
       "3        Germany      Stuttgart   EMEA   EU-WEST  Royal Dutch Shell   \n",
       "4        Germany      Stuttgart   EMEA   EU-WEST  Royal Dutch Shell   \n",
       "\n",
       "   Customer ID Industry    Segment                 Product     License  \\\n",
       "0         1017   Energy        SMB         Marketing Suite  16GRM07R1K   \n",
       "1         1017   Energy        SMB              FinanceHub  QLIW57KZUV   \n",
       "2         1056   Energy  Strategic              FinanceHub  JI6BVL70HQ   \n",
       "3         1031   Energy        SMB          ContactMatcher  DE9GJKGD44   \n",
       "4         1031   Energy        SMB  Marketing Suite - Gold  OIF7NY23WD   \n",
       "\n",
       "      Sales  Quantity  Discount    Profit  \n",
       "0  261.9600         2      0.00   41.9136  \n",
       "1  731.9400         3      0.00  219.5820  \n",
       "2   14.6200         2      0.00    6.8714  \n",
       "3  957.5775         5      0.45 -383.0310  \n",
       "4   22.3680         2      0.20    2.5164  "
      ]
     },
     "execution_count": 2,
     "metadata": {},
     "output_type": "execute_result"
    }
   ],
   "source": [
    "df.head()"
   ]
  },
  {
   "cell_type": "code",
   "execution_count": 3,
   "id": "05c30131",
   "metadata": {},
   "outputs": [
    {
     "name": "stdout",
     "output_type": "stream",
     "text": [
      "<class 'pandas.core.frame.DataFrame'>\n",
      "RangeIndex: 9994 entries, 0 to 9993\n",
      "Data columns (total 19 columns):\n",
      " #   Column        Non-Null Count  Dtype  \n",
      "---  ------        --------------  -----  \n",
      " 0   Row ID        9994 non-null   int64  \n",
      " 1   Order ID      9994 non-null   object \n",
      " 2   Order Date    9994 non-null   object \n",
      " 3   Date Key      9994 non-null   int64  \n",
      " 4   Contact Name  9994 non-null   object \n",
      " 5   Country       9994 non-null   object \n",
      " 6   City          9994 non-null   object \n",
      " 7   Region        9994 non-null   object \n",
      " 8   Subregion     9994 non-null   object \n",
      " 9   Customer      9994 non-null   object \n",
      " 10  Customer ID   9994 non-null   int64  \n",
      " 11  Industry      9994 non-null   object \n",
      " 12  Segment       9994 non-null   object \n",
      " 13  Product       9994 non-null   object \n",
      " 14  License       9994 non-null   object \n",
      " 15  Sales         9994 non-null   float64\n",
      " 16  Quantity      9994 non-null   int64  \n",
      " 17  Discount      9994 non-null   float64\n",
      " 18  Profit        9994 non-null   float64\n",
      "dtypes: float64(3), int64(4), object(12)\n",
      "memory usage: 1.4+ MB\n"
     ]
    }
   ],
   "source": [
    "df.info()"
   ]
  },
  {
   "cell_type": "code",
   "execution_count": 4,
   "id": "77e4498c",
   "metadata": {},
   "outputs": [
    {
     "data": {
      "text/plain": [
       "Row ID          0\n",
       "Order ID        0\n",
       "Order Date      0\n",
       "Date Key        0\n",
       "Contact Name    0\n",
       "Country         0\n",
       "City            0\n",
       "Region          0\n",
       "Subregion       0\n",
       "Customer        0\n",
       "Customer ID     0\n",
       "Industry        0\n",
       "Segment         0\n",
       "Product         0\n",
       "License         0\n",
       "Sales           0\n",
       "Quantity        0\n",
       "Discount        0\n",
       "Profit          0\n",
       "dtype: int64"
      ]
     },
     "execution_count": 4,
     "metadata": {},
     "output_type": "execute_result"
    }
   ],
   "source": [
    "df.isnull().sum()"
   ]
  },
  {
   "cell_type": "markdown",
   "id": "2353b355",
   "metadata": {},
   "source": [
    "### Clean the Data\n",
    "\n",
    "* Handle missing values (e.g., fill or drop rows with missing Sales, Customer ID, or Order Date)."
   ]
  },
  {
   "cell_type": "code",
   "execution_count": 5,
   "id": "9da5ff97",
   "metadata": {},
   "outputs": [],
   "source": [
    "df = df.dropna(subset=['Sales', 'Customer ID', 'Order Date'])"
   ]
  },
  {
   "cell_type": "markdown",
   "id": "85efbee6",
   "metadata": {},
   "source": [
    "* Convert Order Date to datetime format"
   ]
  },
  {
   "cell_type": "code",
   "execution_count": 6,
   "id": "4664427e",
   "metadata": {},
   "outputs": [],
   "source": [
    "df['Order Date'] = pd.to_datetime(df['Order Date'])"
   ]
  },
  {
   "cell_type": "markdown",
   "id": "5afcfa34",
   "metadata": {},
   "source": [
    "* Remove duplicates based on Order ID if any."
   ]
  },
  {
   "cell_type": "code",
   "execution_count": 7,
   "id": "d703b912",
   "metadata": {},
   "outputs": [],
   "source": [
    "df = df.drop_duplicates('Order ID')"
   ]
  },
  {
   "cell_type": "markdown",
   "id": "151ffccb",
   "metadata": {},
   "source": [
    " **Add Month-Year Column**: For monthly aggregations"
   ]
  },
  {
   "cell_type": "code",
   "execution_count": 8,
   "id": "3ba5ce62",
   "metadata": {},
   "outputs": [],
   "source": [
    "df['Month-Year'] = df['Order Date'].dt.to_period('M')"
   ]
  },
  {
   "cell_type": "markdown",
   "id": "7115a550",
   "metadata": {},
   "source": [
    "**Calculate Expenses:** Derive expenses using Expenses = Sales - Profit"
   ]
  },
  {
   "cell_type": "code",
   "execution_count": 9,
   "id": "75bad6c1",
   "metadata": {},
   "outputs": [],
   "source": [
    "df['Expenses'] = df['Sales'] - df['Profit']"
   ]
  },
  {
   "cell_type": "code",
   "execution_count": 10,
   "id": "e50f197f",
   "metadata": {},
   "outputs": [],
   "source": [
    "df.to_csv('cleaned_aws_saas_sales.csv', index=False)"
   ]
  },
  {
   "cell_type": "markdown",
   "id": "75a6717c",
   "metadata": {},
   "source": [
    "### Calculate Monthly Revenue and Burn Rate\n",
    "Compute monthly revenue (total sales) and burn rate (total expenses) to understand financial performance."
   ]
  },
  {
   "cell_type": "markdown",
   "id": "a56d8547",
   "metadata": {},
   "source": [
    "**1. Monthly Revenue**"
   ]
  },
  {
   "cell_type": "code",
   "execution_count": 11,
   "id": "4e736f44",
   "metadata": {},
   "outputs": [
    {
     "name": "stdout",
     "output_type": "stream",
     "text": [
      "   Month-Year     Revenue\n",
      "0     2020-01   6126.4360\n",
      "1     2020-02   2151.4020\n",
      "2     2020-03  19023.9500\n",
      "3     2020-04  12415.6560\n",
      "4     2020-05  15939.3490\n",
      "5     2020-06  13837.6980\n",
      "6     2020-07  13562.9440\n",
      "7     2020-08  14667.0320\n",
      "8     2020-09  26681.7610\n",
      "9     2020-10  13501.2590\n",
      "10    2020-11  33182.7350\n",
      "11    2020-12  36905.7740\n",
      "12    2021-01  10876.2680\n",
      "13    2021-02   7178.1930\n",
      "14    2021-03  16185.6520\n",
      "15    2021-04  13873.6365\n",
      "16    2021-05  14107.2525\n",
      "17    2021-06  13281.7560\n",
      "18    2021-07  11818.2870\n",
      "19    2021-08  18997.2010\n",
      "20    2021-09  27161.5840\n",
      "21    2021-10  16833.9855\n",
      "22    2021-11  39154.5315\n",
      "23    2021-12  32410.5770\n",
      "24    2022-01  10871.0010\n",
      "25    2022-02  17491.5020\n",
      "26    2022-03  19019.0870\n",
      "27    2022-04  27335.5680\n",
      "28    2022-05  35552.8100\n",
      "29    2022-06  24449.3530\n",
      "30    2022-07  15027.4020\n",
      "31    2022-08  15872.5645\n",
      "32    2022-09  30222.2543\n",
      "33    2022-10  17129.4360\n",
      "34    2022-11  41080.0570\n",
      "35    2022-12  58127.3110\n",
      "36    2023-01  23298.4960\n",
      "37    2023-02   9759.7484\n",
      "38    2023-03  19599.4410\n",
      "39    2023-04  16821.7558\n",
      "40    2023-05  21339.4864\n",
      "41    2023-06  28812.6215\n",
      "42    2023-07  22241.2370\n",
      "43    2023-08  31022.0880\n",
      "44    2023-09  38493.3010\n",
      "45    2023-10  38218.8880\n",
      "46    2023-11  60621.1758\n",
      "47    2023-12  47580.5680\n"
     ]
    }
   ],
   "source": [
    "monthly_revenue = df.groupby('Month-Year')['Sales'].sum().reset_index()\n",
    "monthly_revenue.columns = ['Month-Year', 'Revenue']\n",
    "print(monthly_revenue)"
   ]
  },
  {
   "cell_type": "markdown",
   "id": "ce0d6a69",
   "metadata": {},
   "source": [
    "Groups data by month (e.g., 2023-01) and sums Sales to get total revenue. reset_index() makes Month-Year a column."
   ]
  },
  {
   "cell_type": "markdown",
   "id": "d20f1cc6",
   "metadata": {},
   "source": [
    "**2. Burn Rate:**\n",
    "\n",
    "Sum Expenses by Month-Year (burn rate = monthly expenses for a startup with no profit)"
   ]
  },
  {
   "cell_type": "code",
   "execution_count": 12,
   "id": "7cf39d3e",
   "metadata": {},
   "outputs": [
    {
     "name": "stdout",
     "output_type": "stream",
     "text": [
      "   Month-Year   Burn Rate\n",
      "0     2020-01   4807.0144\n",
      "1     2020-02   1600.3778\n",
      "2     2020-03  17811.5686\n",
      "3     2020-04  10518.0172\n",
      "4     2020-05  13823.2739\n",
      "5     2020-06  11113.2240\n",
      "6     2020-07  15762.3189\n",
      "7     2020-08  12278.1754\n",
      "8     2020-09  24986.7175\n",
      "9     2020-10  12861.2961\n",
      "10    2020-11  29923.2461\n",
      "11    2020-12  31703.8294\n",
      "12    2021-01  12839.2042\n",
      "13    2021-02   4956.0734\n",
      "14    2021-03  13210.8878\n",
      "15    2021-04  13817.9611\n",
      "16    2021-05  12245.9928\n",
      "17    2021-06  11030.2452\n",
      "18    2021-07  10615.8454\n",
      "19    2021-08  15148.7450\n",
      "20    2021-09  25221.9420\n",
      "21    2021-10  15210.1747\n",
      "22    2021-11  33302.3950\n",
      "23    2021-12  29735.0437\n",
      "24    2022-01   8505.7974\n",
      "25    2022-02  13412.2642\n",
      "26    2022-03  19232.3903\n",
      "27    2022-04  22472.2863\n",
      "28    2022-05  30506.6724\n",
      "29    2022-06  21674.2698\n",
      "30    2022-07  13079.4519\n",
      "31    2022-08  15478.1191\n",
      "32    2022-09  27316.4277\n",
      "33    2022-10  16635.4379\n",
      "34    2022-11  36294.6261\n",
      "35    2022-12  45121.1634\n",
      "36    2023-01  18563.8239\n",
      "37    2023-02   9389.9970\n",
      "38    2023-03  16573.3552\n",
      "39    2023-04  15115.4611\n",
      "40    2023-05  18041.1038\n",
      "41    2023-06  23483.7436\n",
      "42    2023-07  18707.1316\n",
      "43    2023-08  27988.2376\n",
      "44    2023-09  33107.8782\n",
      "45    2023-10  32922.0278\n",
      "46    2023-11  54208.3390\n",
      "47    2023-12  44992.7547\n"
     ]
    }
   ],
   "source": [
    "monthly_expenses = df.groupby('Month-Year')['Expenses'].sum().reset_index()\n",
    "monthly_expenses.columns = ['Month-Year', 'Burn Rate']\n",
    "print(monthly_expenses)"
   ]
  },
  {
   "cell_type": "code",
   "execution_count": 13,
   "id": "525f8e0c",
   "metadata": {},
   "outputs": [],
   "source": [
    "# Save results to CSV\n",
    "monthly_revenue.to_csv('monthly_revenue.csv', index=False)\n",
    "monthly_expenses.to_csv('monthly_burn_rate.csv', index=False)"
   ]
  },
  {
   "cell_type": "markdown",
   "id": "10f614fd",
   "metadata": {},
   "source": [
    "### Calculate Run Rate\n",
    "\n",
    "Run rate = Average monthly revenue × 12"
   ]
  },
  {
   "cell_type": "code",
   "execution_count": 14,
   "id": "e99b9894",
   "metadata": {},
   "outputs": [
    {
     "name": "stdout",
     "output_type": "stream",
     "text": [
      "Annual Run Rate: $274,965.52\n"
     ]
    }
   ],
   "source": [
    "avg_monthly_revenue = monthly_revenue['Revenue'].mean()\n",
    "run_rate = avg_monthly_revenue * 12\n",
    "print(f\"Annual Run Rate: ${run_rate:,.2f}\")"
   ]
  },
  {
   "cell_type": "markdown",
   "id": "92d2daa2",
   "metadata": {},
   "source": [
    "* Explanation: Takes the average of monthly revenue and multiplies by 12 to project yearly revenue. Useful for forecasting."
   ]
  },
  {
   "cell_type": "markdown",
   "id": "e6ad27e6",
   "metadata": {},
   "source": [
    "### Calculate Customer Acquisition Cost (CAC)\n",
    "\n",
    "The dataset doesn’t provide marketing costs, so assume 30% of Expenses are acquisition-related (adjust if you have real data)."
   ]
  },
  {
   "cell_type": "markdown",
   "id": "cdc04ee3",
   "metadata": {},
   "source": [
    "* Calculate **acquisition costs** as 30% of expenses"
   ]
  },
  {
   "cell_type": "code",
   "execution_count": 15,
   "id": "ceef32df",
   "metadata": {},
   "outputs": [],
   "source": [
    "df['Acquisition Cost'] = df['Expenses'] * 0.3\n",
    "monthly_acquisition_cost = df.groupby('Month-Year')['Acquisition Cost'].sum().reset_index()"
   ]
  },
  {
   "cell_type": "markdown",
   "id": "39dc8be1",
   "metadata": {},
   "source": [
    "* Find each customer’s first purchase month to count new customers."
   ]
  },
  {
   "cell_type": "code",
   "execution_count": 16,
   "id": "d8cd7d68",
   "metadata": {},
   "outputs": [],
   "source": [
    "first_purchase = df.groupby('Customer ID')['Order Date'].min().reset_index()\n",
    "first_purchase['Month-Year'] = first_purchase['Order Date'].dt.to_period('M')\n",
    "new_customers = first_purchase.groupby('Month-Year')['Customer ID'].count().reset_index()\n",
    "new_customers.columns = ['Month-Year', 'New Customers']"
   ]
  },
  {
   "cell_type": "markdown",
   "id": "6bb3c942",
   "metadata": {},
   "source": [
    "* CAC = Monthly acquisition cost ÷ Number of new customers."
   ]
  },
  {
   "cell_type": "code",
   "execution_count": 17,
   "id": "55b11fc6",
   "metadata": {},
   "outputs": [
    {
     "name": "stdout",
     "output_type": "stream",
     "text": [
      "  Month-Year          CAC\n",
      "0    2020-01    53.411271\n",
      "1    2020-02    26.672963\n",
      "2    2020-03   205.518099\n",
      "3    2020-04   286.855015\n",
      "4    2020-05   691.163695\n",
      "5    2020-06   666.793440\n",
      "6    2020-07  2364.347835\n",
      "7    2020-08  1227.817540\n",
      "8    2020-09  7496.015250\n"
     ]
    }
   ],
   "source": [
    "cac = monthly_acquisition_cost.merge(new_customers, on='Month-Year')\n",
    "cac['CAC'] = cac['Acquisition Cost'] / cac['New Customers']\n",
    "print(cac[['Month-Year', 'CAC']])"
   ]
  },
  {
   "cell_type": "code",
   "execution_count": 18,
   "id": "5aae446b",
   "metadata": {},
   "outputs": [],
   "source": [
    "cac.to_csv('monthly_CAC.csv', index=False)"
   ]
  },
  {
   "cell_type": "markdown",
   "id": "2f4aaa9c",
   "metadata": {},
   "source": [
    "### Calculate Lifetime Value (LTV)\n",
    "\n",
    "Estimate the total revenue a customer generates over their lifespan.\n",
    "\n",
    "**Assumptions:**\n",
    "\n",
    "Average revenue per customer is based on total sales per Customer ID.\n",
    "\n",
    "Customer lifespan is the time between first and last purchase (in months). If data is limited, assume a typical SaaS lifespan (e.g., 24 months)."
   ]
  },
  {
   "cell_type": "code",
   "execution_count": 19,
   "id": "a2ec99bc",
   "metadata": {},
   "outputs": [],
   "source": [
    "# Calculate Revenue per Customer:\n",
    "customer_revenue = df.groupby('Customer ID')['Sales'].sum().reset_index()\n",
    "avg_revenue_per_customer = customer_revenue['Sales'].mean()\n",
    "\n",
    "# Estimate Lifespan:\n",
    "customer_lifespan = df.groupby('Customer ID').agg({\n",
    "    'Order Date': ['min', 'max']\n",
    "}).reset_index()\n",
    "customer_lifespan.columns = ['Customer ID', 'First Purchase', 'Last Purchase']\n",
    "customer_lifespan['Lifespan'] = (customer_lifespan['Last Purchase'] - customer_lifespan['First Purchase']).dt.days / 30\n",
    "avg_lifespan = customer_lifespan['Lifespan'].mean()"
   ]
  },
  {
   "cell_type": "code",
   "execution_count": 20,
   "id": "80cc022f",
   "metadata": {},
   "outputs": [
    {
     "name": "stdout",
     "output_type": "stream",
     "text": [
      "Average LTV: $506,423.59\n"
     ]
    }
   ],
   "source": [
    "ltv = avg_revenue_per_customer * avg_lifespan\n",
    "print(f\"Average LTV: ${ltv:,.2f}\")"
   ]
  },
  {
   "cell_type": "markdown",
   "id": "7ff1c279",
   "metadata": {},
   "source": [
    "### Compute LTV:CAC Ratio\n",
    "\n",
    "Evaluate the efficiency of customer acquisition (healthy ratio > 3).\n"
   ]
  },
  {
   "cell_type": "code",
   "execution_count": 21,
   "id": "3a58c1bf",
   "metadata": {},
   "outputs": [
    {
     "name": "stdout",
     "output_type": "stream",
     "text": [
      "LTV:CAC Ratio: 350.10\n"
     ]
    }
   ],
   "source": [
    "avg_cac = cac['CAC'].mean()\n",
    "ltv_cac_ratio = ltv / avg_cac\n",
    "print(f\"LTV:CAC Ratio: {ltv_cac_ratio:.2f}\")"
   ]
  },
  {
   "cell_type": "code",
   "execution_count": 22,
   "id": "58e8f6cb",
   "metadata": {},
   "outputs": [],
   "source": [
    "# Generate a PDF summarizing LTV, CAC, and LTV:CAC ratio\n",
    "\n",
    "from reportlab.lib.pagesizes import letter\n",
    "from reportlab.pdfgen import canvas\n",
    "\n",
    "c = canvas.Canvas(\"LTV_CAC_Report.pdf\", pagesize=letter)\n",
    "c.drawString(100, 750, \"Financial KPI Report\")\n",
    "c.drawString(100, 730, f\"Average LTV: ${ltv:,.2f}\")\n",
    "c.drawString(100, 710, f\"Average CAC: ${avg_cac:,.2f}\")\n",
    "c.drawString(100, 690, f\"LTV:CAC Ratio: {ltv_cac_ratio:.2f}\")\n",
    "c.save()"
   ]
  },
  {
   "cell_type": "markdown",
   "id": "ce2d804a",
   "metadata": {},
   "source": [
    "### Perform Cohort Analysis\n",
    "\n",
    "Track customer behavior (e.g., revenue or retention) by acquisition month."
   ]
  },
  {
   "cell_type": "code",
   "execution_count": 23,
   "id": "82b54781",
   "metadata": {},
   "outputs": [],
   "source": [
    "#Assign Cohorts:\n",
    "first_purchase = df.groupby('Customer ID')['Order Date'].min().reset_index()\n",
    "first_purchase['Cohort Month'] = first_purchase['Order Date'].dt.to_period('M')\n",
    "cohort_data = df.merge(first_purchase[['Customer ID', 'Cohort Month']], on='Customer ID')\n",
    "\n",
    "# Calculate Cohort Revenue:\n",
    "cohort_revenue = cohort_data.groupby(['Cohort Month', 'Month-Year'])['Sales'].sum().unstack()\n",
    "\n",
    "# Calculate Cohort Retention:\n",
    "cohort_counts = cohort_data.groupby(['Cohort Month', 'Month-Year'])['Customer ID'].nunique().unstack()\n",
    "cohort_retention = cohort_counts.divide(cohort_counts.iloc[:, 0], axis=0)"
   ]
  },
  {
   "cell_type": "code",
   "execution_count": 24,
   "id": "c5fcd9ac",
   "metadata": {},
   "outputs": [],
   "source": [
    "cohort_revenue.to_csv('cohort_revenue.csv')\n",
    "cohort_retention.to_csv('cohort_retention.csv')"
   ]
  },
  {
   "cell_type": "code",
   "execution_count": null,
   "id": "b0b8f9a2",
   "metadata": {},
   "outputs": [],
   "source": []
  }
 ],
 "metadata": {
  "kernelspec": {
   "display_name": "Python 3 (ipykernel)",
   "language": "python",
   "name": "python3"
  },
  "language_info": {
   "codemirror_mode": {
    "name": "ipython",
    "version": 3
   },
   "file_extension": ".py",
   "mimetype": "text/x-python",
   "name": "python",
   "nbconvert_exporter": "python",
   "pygments_lexer": "ipython3",
   "version": "3.9.7"
  }
 },
 "nbformat": 4,
 "nbformat_minor": 5
}
